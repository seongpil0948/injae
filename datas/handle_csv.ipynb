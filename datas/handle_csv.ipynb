{
 "metadata": {
  "language_info": {
   "codemirror_mode": {
    "name": "ipython",
    "version": 3
   },
   "file_extension": ".py",
   "mimetype": "text/x-python",
   "name": "python",
   "nbconvert_exporter": "python",
   "pygments_lexer": "ipython3",
   "version": "3.8.2-final"
  },
  "orig_nbformat": 2,
  "kernelspec": {
   "name": "python3",
   "display_name": "Python 3"
  }
 },
 "nbformat": 4,
 "nbformat_minor": 2,
 "cells": [
  {
   "source": [
    "# 주문지역 별 집계"
   ],
   "cell_type": "markdown",
   "metadata": {}
  },
  {
   "cell_type": "code",
   "execution_count": 10,
   "metadata": {},
   "outputs": [],
   "source": [
    "import pandas as pd\n",
    "import numpy as np\n",
    "\n",
    "# df = pd.read_csv('./datas/klm1144__dataframe.csv')\n",
    "curr_df = pd.read_csv('2020-9/klm1144.csv')\n",
    "compare_df = pd.read_csv('2020-11/klm1144.csv')"
   ]
  },
  {
   "cell_type": "code",
   "execution_count": 11,
   "metadata": {},
   "outputs": [],
   "source": [
    "curr_order = curr_df.groupby('address').sum('payment')\n",
    "compare_order = compare_df.groupby('address').sum('payment')"
   ]
  },
  {
   "cell_type": "code",
   "execution_count": 12,
   "metadata": {},
   "outputs": [
    {
     "output_type": "execute_result",
     "data": {
      "text/plain": [
       "                      Unnamed: 0  campaign_id  payment     profit\n",
       "address                                                          \n",
       "경기 수원시 권선구 서둔동 ****          109      3046829    12000  -227000.0\n",
       "경기 수원시 권선구 세류2동 ****          35      3046829    10000        NaN\n",
       "경기 수원시 권선구 평동 ****          9623    314247400  2206000 -1115000.0\n",
       "경기 화성시 매송면 매송면 ****         4658    135233820   934000   286000.0\n",
       "경기 화성시 봉담읍 봉담읍 ****         1528     63109137   480000  -701000.0\n",
       "경기도 수원시 권선구 평동 ****          233      6052026    32000    16000.0"
      ],
      "text/html": "<div>\n<style scoped>\n    .dataframe tbody tr th:only-of-type {\n        vertical-align: middle;\n    }\n\n    .dataframe tbody tr th {\n        vertical-align: top;\n    }\n\n    .dataframe thead th {\n        text-align: right;\n    }\n</style>\n<table border=\"1\" class=\"dataframe\">\n  <thead>\n    <tr style=\"text-align: right;\">\n      <th></th>\n      <th>Unnamed: 0</th>\n      <th>campaign_id</th>\n      <th>payment</th>\n      <th>profit</th>\n    </tr>\n    <tr>\n      <th>address</th>\n      <th></th>\n      <th></th>\n      <th></th>\n      <th></th>\n    </tr>\n  </thead>\n  <tbody>\n    <tr>\n      <th>경기 수원시 권선구 서둔동 ****</th>\n      <td>109</td>\n      <td>3046829</td>\n      <td>12000</td>\n      <td>-227000.0</td>\n    </tr>\n    <tr>\n      <th>경기 수원시 권선구 세류2동 ****</th>\n      <td>35</td>\n      <td>3046829</td>\n      <td>10000</td>\n      <td>NaN</td>\n    </tr>\n    <tr>\n      <th>경기 수원시 권선구 평동 ****</th>\n      <td>9623</td>\n      <td>314247400</td>\n      <td>2206000</td>\n      <td>-1115000.0</td>\n    </tr>\n    <tr>\n      <th>경기 화성시 매송면 매송면 ****</th>\n      <td>4658</td>\n      <td>135233820</td>\n      <td>934000</td>\n      <td>286000.0</td>\n    </tr>\n    <tr>\n      <th>경기 화성시 봉담읍 봉담읍 ****</th>\n      <td>1528</td>\n      <td>63109137</td>\n      <td>480000</td>\n      <td>-701000.0</td>\n    </tr>\n    <tr>\n      <th>경기도 수원시 권선구 평동 ****</th>\n      <td>233</td>\n      <td>6052026</td>\n      <td>32000</td>\n      <td>16000.0</td>\n    </tr>\n  </tbody>\n</table>\n</div>"
     },
     "metadata": {},
     "execution_count": 12
    }
   ],
   "source": [
    "curr_order['profit'] = curr_order['payment'] - compare_order['payment']\n",
    "curr_order.loc[:, ~curr_order.columns.str.contains('^Unnamed')]\n",
    "curr_order"
   ]
  },
  {
   "cell_type": "code",
   "execution_count": 13,
   "metadata": {},
   "outputs": [],
   "source": [
    "for address in curr_order[curr_order.profit.isna()].index.to_list():\n",
    "    if address in curr_order.index:\n",
    "        curr_order.loc[address] = curr_order.loc[address].payment\n",
    "    elif address in compare_order.index:\n",
    "        curr_order.loc[address] = -compare_order.loc[address].payment\n",
    "    else:\n",
    "        raise ValueError('뭔가 잘못 되었다.')"
   ]
  },
  {
   "cell_type": "code",
   "execution_count": 14,
   "metadata": {},
   "outputs": [
    {
     "output_type": "execute_result",
     "data": {
      "text/plain": [
       "                      Unnamed: 0  campaign_id    payment     profit\n",
       "address                                                            \n",
       "경기 수원시 권선구 서둔동 ****        109.0    3046829.0    12000.0  -227000.0\n",
       "경기 수원시 권선구 세류2동 ****     10000.0      10000.0    10000.0    10000.0\n",
       "경기 수원시 권선구 평동 ****        9623.0  314247400.0  2206000.0 -1115000.0\n",
       "경기 화성시 매송면 매송면 ****       4658.0  135233820.0   934000.0   286000.0\n",
       "경기 화성시 봉담읍 봉담읍 ****       1528.0   63109137.0   480000.0  -701000.0\n",
       "경기도 수원시 권선구 평동 ****        233.0    6052026.0    32000.0    16000.0"
      ],
      "text/html": "<div>\n<style scoped>\n    .dataframe tbody tr th:only-of-type {\n        vertical-align: middle;\n    }\n\n    .dataframe tbody tr th {\n        vertical-align: top;\n    }\n\n    .dataframe thead th {\n        text-align: right;\n    }\n</style>\n<table border=\"1\" class=\"dataframe\">\n  <thead>\n    <tr style=\"text-align: right;\">\n      <th></th>\n      <th>Unnamed: 0</th>\n      <th>campaign_id</th>\n      <th>payment</th>\n      <th>profit</th>\n    </tr>\n    <tr>\n      <th>address</th>\n      <th></th>\n      <th></th>\n      <th></th>\n      <th></th>\n    </tr>\n  </thead>\n  <tbody>\n    <tr>\n      <th>경기 수원시 권선구 서둔동 ****</th>\n      <td>109.0</td>\n      <td>3046829.0</td>\n      <td>12000.0</td>\n      <td>-227000.0</td>\n    </tr>\n    <tr>\n      <th>경기 수원시 권선구 세류2동 ****</th>\n      <td>10000.0</td>\n      <td>10000.0</td>\n      <td>10000.0</td>\n      <td>10000.0</td>\n    </tr>\n    <tr>\n      <th>경기 수원시 권선구 평동 ****</th>\n      <td>9623.0</td>\n      <td>314247400.0</td>\n      <td>2206000.0</td>\n      <td>-1115000.0</td>\n    </tr>\n    <tr>\n      <th>경기 화성시 매송면 매송면 ****</th>\n      <td>4658.0</td>\n      <td>135233820.0</td>\n      <td>934000.0</td>\n      <td>286000.0</td>\n    </tr>\n    <tr>\n      <th>경기 화성시 봉담읍 봉담읍 ****</th>\n      <td>1528.0</td>\n      <td>63109137.0</td>\n      <td>480000.0</td>\n      <td>-701000.0</td>\n    </tr>\n    <tr>\n      <th>경기도 수원시 권선구 평동 ****</th>\n      <td>233.0</td>\n      <td>6052026.0</td>\n      <td>32000.0</td>\n      <td>16000.0</td>\n    </tr>\n  </tbody>\n</table>\n</div>"
     },
     "metadata": {},
     "execution_count": 14
    }
   ],
   "source": [
    "curr_order"
   ]
  },
  {
   "source": [
    "# 캠페인 아이디 별 집계"
   ],
   "cell_type": "markdown",
   "metadata": {}
  },
  {
   "cell_type": "code",
   "execution_count": 21,
   "metadata": {},
   "outputs": [
    {
     "output_type": "execute_result",
     "data": {
      "text/plain": [
       "{'3005196': '경기도 화성시 매송면 화성로2397번길 49',\n",
       " '3005197': '경기도 수원시 권선구 삼천병마로 1545',\n",
       " '3046829': '경기도 수원시 권선구 산업로 174-30',\n",
       " '3251512': '경기도 수원시 권선구 매송고색로794번길 249'}"
      ]
     },
     "metadata": {},
     "execution_count": 21
    }
   ],
   "source": [
    "import json\n",
    "\n",
    "with open(\"2020-11/adv_info.json\", \"r\") as f:\n",
    "    adv_info = json.load(f)\n",
    "adv_info"
   ]
  },
  {
   "cell_type": "code",
   "execution_count": 30,
   "metadata": {},
   "outputs": [],
   "source": [
    "curr_order = curr_df.groupby('campaign_id').sum('payment')\n",
    "curr_order.index = curr_order.index.map(str)\n",
    "curr_order = curr_order.loc[:, ~curr_order.columns.str.contains('^Unnamed')]\n",
    "curr_order.profit= np.nan\n",
    "\n",
    "compare_order = compare_df.groupby('campaign_id').sum('payment')\n",
    "compare_order = compare_order.loc[:, ~compare_order.columns.str.contains('^Unnamed')]\n",
    "compare_order.index = compare_order.index.map(lambda x: str(x))\n",
    "compare_order.profit = np.nan"
   ]
  },
  {
   "cell_type": "code",
   "execution_count": 38,
   "metadata": {},
   "outputs": [
    {
     "output_type": "execute_result",
     "data": {
      "text/plain": [
       "Index(['3005196', '3005197', '3046829'], dtype='object', name='campaign_id')"
      ]
     },
     "metadata": {},
     "execution_count": 38
    }
   ],
   "source": [
    "\n"
   ]
  },
  {
   "cell_type": "code",
   "execution_count": 39,
   "metadata": {},
   "outputs": [],
   "source": [
    "try:\n",
    "    curr_order = curr_order.drop('기타')\n",
    "except KeyError:\n",
    "    pass\n",
    "try:\n",
    "    compare_order = compare_order.drop('기타')\n",
    "except KeyError:\n",
    "    pass"
   ]
  },
  {
   "cell_type": "code",
   "execution_count": null,
   "metadata": {},
   "outputs": [],
   "source": []
  },
  {
   "cell_type": "code",
   "execution_count": 50,
   "metadata": {},
   "outputs": [],
   "source": [
    "curr_order['profit'] = (curr_order.payment - compare_order.payment - 88000)\n",
    "curr_order['profit'] = curr_order['profit'].fillna(curr_order['payment'] - 88000) # 이전달에 울트라콜이 있고 이번달에 없을 수 없음. 무조건 현재달 기준.\n",
    "curr_order['profit'] = curr_order['profit'] / compare_order.payment * 100 "
   ]
  },
  {
   "cell_type": "code",
   "execution_count": 47,
   "metadata": {},
   "outputs": [
    {
     "output_type": "execute_result",
     "data": {
      "text/plain": [
       "campaign_id\n",
       "3005196    268000.0\n",
       "3005197   -963000.0\n",
       "3046829   -977000.0\n",
       "3251512         NaN\n",
       "Name: payment, dtype: float64"
      ]
     },
     "metadata": {},
     "execution_count": 47
    }
   ],
   "source": [
    "curr_order.payment - compare_order.payment - 88000 # 증가량"
   ]
  },
  {
   "cell_type": "code",
   "execution_count": 20,
   "metadata": {},
   "outputs": [
    {
     "output_type": "execute_result",
     "data": {
      "text/plain": [
       "             payment\n",
       "campaign_id         \n",
       "3005196       654000\n",
       "3005197      2733000\n",
       "3046829      1881000\n",
       "3251512      1352000"
      ],
      "text/html": "<div>\n<style scoped>\n    .dataframe tbody tr th:only-of-type {\n        vertical-align: middle;\n    }\n\n    .dataframe tbody tr th {\n        vertical-align: top;\n    }\n\n    .dataframe thead th {\n        text-align: right;\n    }\n</style>\n<table border=\"1\" class=\"dataframe\">\n  <thead>\n    <tr style=\"text-align: right;\">\n      <th></th>\n      <th>payment</th>\n    </tr>\n    <tr>\n      <th>campaign_id</th>\n      <th></th>\n    </tr>\n  </thead>\n  <tbody>\n    <tr>\n      <th>3005196</th>\n      <td>654000</td>\n    </tr>\n    <tr>\n      <th>3005197</th>\n      <td>2733000</td>\n    </tr>\n    <tr>\n      <th>3046829</th>\n      <td>1881000</td>\n    </tr>\n    <tr>\n      <th>3251512</th>\n      <td>1352000</td>\n    </tr>\n  </tbody>\n</table>\n</div>"
     },
     "metadata": {},
     "execution_count": 20
    }
   ],
   "source": [
    "compare_order"
   ]
  },
  {
   "cell_type": "code",
   "execution_count": null,
   "metadata": {},
   "outputs": [],
   "source": []
  }
 ]
}
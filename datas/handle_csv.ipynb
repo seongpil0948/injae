{
 "metadata": {
  "language_info": {
   "codemirror_mode": {
    "name": "ipython",
    "version": 3
   },
   "file_extension": ".py",
   "mimetype": "text/x-python",
   "name": "python",
   "nbconvert_exporter": "python",
   "pygments_lexer": "ipython3",
   "version": "3.8.2-final"
  },
  "orig_nbformat": 2,
  "kernelspec": {
   "name": "python3",
   "display_name": "Python 3"
  }
 },
 "nbformat": 4,
 "nbformat_minor": 2,
 "cells": [
  {
   "cell_type": "code",
   "execution_count": 173,
   "metadata": {},
   "outputs": [],
   "source": [
    "import pandas as pd"
   ]
  },
  {
   "cell_type": "code",
   "execution_count": 174,
   "metadata": {},
   "outputs": [],
   "source": [
    "t_df = pd.read_csv('2020-9/klm1144.csv')\n",
    "c_df = pd.read_csv('2020-11/klm1144.csv')"
   ]
  },
  {
   "cell_type": "code",
   "execution_count": 175,
   "metadata": {},
   "outputs": [],
   "source": [
    "def cleaning(t_df, c_df):\n",
    "    c_df = c_df.loc[:, ~c_df.columns.str.contains('^Unnamed')]\n",
    "    t_df = t_df.loc[:, ~t_df.columns.str.contains('^Unnamed')]\n",
    "    if not c_df.dtypes.equals(t_df.dtypes):\n",
    "        raise ValueError('두 데이터의 타입이 다르다')\n",
    "    elif not all(c_df.columns.__eq__(t_df.columns)):\n",
    "        raise ValueError('두 데이터의 컬럼이 다르다')\n",
    "    else:\n",
    "        return c_df, t_df\n",
    "t_df, c_df = cleaning(t_df, c_df)"
   ]
  },
  {
   "cell_type": "code",
   "execution_count": 176,
   "metadata": {},
   "outputs": [
    {
     "output_type": "execute_result",
     "data": {
      "text/plain": [
       "             payment\n",
       "campaign_id         \n",
       "3005196       654000\n",
       "3005197      2733000\n",
       "3046829      1881000\n",
       "3251512      1352000"
      ],
      "text/html": "<div>\n<style scoped>\n    .dataframe tbody tr th:only-of-type {\n        vertical-align: middle;\n    }\n\n    .dataframe tbody tr th {\n        vertical-align: top;\n    }\n\n    .dataframe thead th {\n        text-align: right;\n    }\n</style>\n<table border=\"1\" class=\"dataframe\">\n  <thead>\n    <tr style=\"text-align: right;\">\n      <th></th>\n      <th>payment</th>\n    </tr>\n    <tr>\n      <th>campaign_id</th>\n      <th></th>\n    </tr>\n  </thead>\n  <tbody>\n    <tr>\n      <th>3005196</th>\n      <td>654000</td>\n    </tr>\n    <tr>\n      <th>3005197</th>\n      <td>2733000</td>\n    </tr>\n    <tr>\n      <th>3046829</th>\n      <td>1881000</td>\n    </tr>\n    <tr>\n      <th>3251512</th>\n      <td>1352000</td>\n    </tr>\n  </tbody>\n</table>\n</div>"
     },
     "metadata": {},
     "execution_count": 176
    }
   ],
   "source": [
    "curr_order = t_df.groupby('campaign_id').sum('payment')\n",
    "curr_order"
   ]
  },
  {
   "cell_type": "code",
   "execution_count": 177,
   "metadata": {},
   "outputs": [
    {
     "output_type": "execute_result",
     "data": {
      "text/plain": [
       "             payment\n",
       "campaign_id         \n",
       "3005196      1010000\n",
       "3005197      1858000\n",
       "3046829       992000"
      ],
      "text/html": "<div>\n<style scoped>\n    .dataframe tbody tr th:only-of-type {\n        vertical-align: middle;\n    }\n\n    .dataframe tbody tr th {\n        vertical-align: top;\n    }\n\n    .dataframe thead th {\n        text-align: right;\n    }\n</style>\n<table border=\"1\" class=\"dataframe\">\n  <thead>\n    <tr style=\"text-align: right;\">\n      <th></th>\n      <th>payment</th>\n    </tr>\n    <tr>\n      <th>campaign_id</th>\n      <th></th>\n    </tr>\n  </thead>\n  <tbody>\n    <tr>\n      <th>3005196</th>\n      <td>1010000</td>\n    </tr>\n    <tr>\n      <th>3005197</th>\n      <td>1858000</td>\n    </tr>\n    <tr>\n      <th>3046829</th>\n      <td>992000</td>\n    </tr>\n  </tbody>\n</table>\n</div>"
     },
     "metadata": {},
     "execution_count": 177
    }
   ],
   "source": [
    "compare_order = c_df.groupby('campaign_id').sum('payment')\n",
    "compare_order"
   ]
  },
  {
   "cell_type": "code",
   "execution_count": 178,
   "metadata": {},
   "outputs": [],
   "source": [
    "curr_order = t_df.groupby('campaign_id').sum('payment')\n",
    "compare_order = c_df.groupby('campaign_id').sum('payment')\n",
    "\n",
    "try:\n",
    "    curr_order = curr_order.drop('기타')\n",
    "except KeyError:\n",
    "    pass\n",
    "try:\n",
    "    compare_order = compare_order.drop('기타')\n",
    "except KeyError:\n",
    "    pass\n",
    "\n",
    "curr_order['profit'] = curr_order.payment.subtract(compare_order.payment + 88000, fill_value=0)"
   ]
  },
  {
   "cell_type": "code",
   "execution_count": 179,
   "metadata": {},
   "outputs": [
    {
     "output_type": "execute_result",
     "data": {
      "text/plain": [
       "campaign_id\n",
       "3005196   -0.678899\n",
       "3005197    0.287962\n",
       "3046829    0.425837\n",
       "3251512    1.000000\n",
       "dtype: float64"
      ]
     },
     "metadata": {},
     "execution_count": 179
    }
   ],
   "source": [
    "a = curr_order.profit / curr_order.payment\n",
    "a"
   ]
  },
  {
   "cell_type": "code",
   "execution_count": 180,
   "metadata": {},
   "outputs": [
    {
     "output_type": "execute_result",
     "data": {
      "text/plain": [
       "campaign_id\n",
       "3005196   -0.678899\n",
       "3005197    0.287962\n",
       "3046829    0.425837\n",
       "3251512    0.000000\n",
       "dtype: float64"
      ]
     },
     "metadata": {},
     "execution_count": 180
    }
   ],
   "source": [
    "a.map(lambda x: x % -1 if x < 0 else x % 1)"
   ]
  },
  {
   "cell_type": "code",
   "execution_count": 181,
   "metadata": {},
   "outputs": [
    {
     "output_type": "execute_result",
     "data": {
      "text/plain": [
       "             payment     profit\n",
       "campaign_id                    \n",
       "3005196       654000 -67.889908\n",
       "3005197      2733000  28.796195\n",
       "3046829      1881000  42.583732\n",
       "3251512      1352000   0.000000"
      ],
      "text/html": "<div>\n<style scoped>\n    .dataframe tbody tr th:only-of-type {\n        vertical-align: middle;\n    }\n\n    .dataframe tbody tr th {\n        vertical-align: top;\n    }\n\n    .dataframe thead th {\n        text-align: right;\n    }\n</style>\n<table border=\"1\" class=\"dataframe\">\n  <thead>\n    <tr style=\"text-align: right;\">\n      <th></th>\n      <th>payment</th>\n      <th>profit</th>\n    </tr>\n    <tr>\n      <th>campaign_id</th>\n      <th></th>\n      <th></th>\n    </tr>\n  </thead>\n  <tbody>\n    <tr>\n      <th>3005196</th>\n      <td>654000</td>\n      <td>-67.889908</td>\n    </tr>\n    <tr>\n      <th>3005197</th>\n      <td>2733000</td>\n      <td>28.796195</td>\n    </tr>\n    <tr>\n      <th>3046829</th>\n      <td>1881000</td>\n      <td>42.583732</td>\n    </tr>\n    <tr>\n      <th>3251512</th>\n      <td>1352000</td>\n      <td>0.000000</td>\n    </tr>\n  </tbody>\n</table>\n</div>"
     },
     "metadata": {},
     "execution_count": 181
    }
   ],
   "source": [
    "    curr_order['profit'] = curr_order.payment.subtract(compare_order.payment + 88000, fill_value=0)\n",
    "    curr_order['profit'] = curr_order.profit / curr_order.payment\n",
    "    curr_order['profit'] = curr_order['profit'].map(lambda x: x % -1 if x < 0 else x % 1)\n",
    "    curr_order['profit'] = curr_order['profit'] * 100\n",
    "    curr_order"
   ]
  },
  {
   "cell_type": "code",
   "execution_count": 182,
   "metadata": {},
   "outputs": [],
   "source": [
    "    curr_order['profit'] = curr_order.payment.subtract(compare_order.payment + 88000, fill_value=0)"
   ]
  },
  {
   "cell_type": "code",
   "execution_count": 183,
   "metadata": {},
   "outputs": [],
   "source": [
    "def apply_adv_info(df_by_campaign_id, adv_info):\n",
    "    adv_info = pd.Series(adv_info, name=\"address\")\n",
    "\n",
    "    for k in adv_info.index:\n",
    "        if k not in df_by_campaign_id.index:\n",
    "            df_by_campaign_id.loc[k] = [np.nan, np.nan]\n",
    "    df_by_campaign_id = pd.concat([df_by_campaign_id, adv_info], axis=1)\n",
    "    return df_by_campaign_id"
   ]
  },
  {
   "cell_type": "code",
   "execution_count": 184,
   "metadata": {},
   "outputs": [],
   "source": [
    "import json\n",
    "import numpy as np\n",
    "with open(f\"2020-11/adv_info.json\", \"r\") as f:\n",
    "    adv_info = pd.Series(json.load(f))\n",
    "adv_info.index = adv_info.index.map(int)"
   ]
  },
  {
   "cell_type": "code",
   "execution_count": 185,
   "metadata": {},
   "outputs": [],
   "source": [
    "curr_order = apply_adv_info(curr_order, adv_info)"
   ]
  },
  {
   "cell_type": "code",
   "execution_count": 186,
   "metadata": {},
   "outputs": [
    {
     "output_type": "execute_result",
     "data": {
      "text/plain": [
       "         payment     profit                     address\n",
       "3005196   654000  -444000.0    경기도 화성시 매송면 화성로2397번길 49\n",
       "3005197  2733000   787000.0      경기도 수원시 권선구 삼천병마로 1545\n",
       "3046829  1881000   801000.0      경기도 수원시 권선구 산업로 174-30\n",
       "3251512  1352000  1352000.0  경기도 수원시 권선구 매송고색로794번길 249"
      ],
      "text/html": "<div>\n<style scoped>\n    .dataframe tbody tr th:only-of-type {\n        vertical-align: middle;\n    }\n\n    .dataframe tbody tr th {\n        vertical-align: top;\n    }\n\n    .dataframe thead th {\n        text-align: right;\n    }\n</style>\n<table border=\"1\" class=\"dataframe\">\n  <thead>\n    <tr style=\"text-align: right;\">\n      <th></th>\n      <th>payment</th>\n      <th>profit</th>\n      <th>address</th>\n    </tr>\n  </thead>\n  <tbody>\n    <tr>\n      <th>3005196</th>\n      <td>654000</td>\n      <td>-444000.0</td>\n      <td>경기도 화성시 매송면 화성로2397번길 49</td>\n    </tr>\n    <tr>\n      <th>3005197</th>\n      <td>2733000</td>\n      <td>787000.0</td>\n      <td>경기도 수원시 권선구 삼천병마로 1545</td>\n    </tr>\n    <tr>\n      <th>3046829</th>\n      <td>1881000</td>\n      <td>801000.0</td>\n      <td>경기도 수원시 권선구 산업로 174-30</td>\n    </tr>\n    <tr>\n      <th>3251512</th>\n      <td>1352000</td>\n      <td>1352000.0</td>\n      <td>경기도 수원시 권선구 매송고색로794번길 249</td>\n    </tr>\n  </tbody>\n</table>\n</div>"
     },
     "metadata": {},
     "execution_count": 186
    }
   ],
   "source": [
    "curr_order"
   ]
  },
  {
   "cell_type": "code",
   "execution_count": null,
   "metadata": {},
   "outputs": [],
   "source": []
  }
 ]
}
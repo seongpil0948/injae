{
 "metadata": {
  "language_info": {
   "codemirror_mode": {
    "name": "ipython",
    "version": 3
   },
   "file_extension": ".py",
   "mimetype": "text/x-python",
   "name": "python",
   "nbconvert_exporter": "python",
   "pygments_lexer": "ipython3",
   "version": "3.8.2-final"
  },
  "orig_nbformat": 2,
  "kernelspec": {
   "name": "python3",
   "display_name": "Python 3"
  }
 },
 "nbformat": 4,
 "nbformat_minor": 2,
 "cells": [
  {
   "cell_type": "code",
   "execution_count": 13,
   "metadata": {},
   "outputs": [
    {
     "output_type": "execute_result",
     "data": {
      "text/plain": [
       "             payment\n",
       "campaign_id         \n",
       "3005196      1010000\n",
       "3005197      1858000\n",
       "3046829       992000"
      ],
      "text/html": "<div>\n<style scoped>\n    .dataframe tbody tr th:only-of-type {\n        vertical-align: middle;\n    }\n\n    .dataframe tbody tr th {\n        vertical-align: top;\n    }\n\n    .dataframe thead th {\n        text-align: right;\n    }\n</style>\n<table border=\"1\" class=\"dataframe\">\n  <thead>\n    <tr style=\"text-align: right;\">\n      <th></th>\n      <th>payment</th>\n    </tr>\n    <tr>\n      <th>campaign_id</th>\n      <th></th>\n    </tr>\n  </thead>\n  <tbody>\n    <tr>\n      <th>3005196</th>\n      <td>1010000</td>\n    </tr>\n    <tr>\n      <th>3005197</th>\n      <td>1858000</td>\n    </tr>\n    <tr>\n      <th>3046829</th>\n      <td>992000</td>\n    </tr>\n  </tbody>\n</table>\n</div>"
     },
     "metadata": {},
     "execution_count": 13
    }
   ],
   "source": [
    "from common import *\n",
    "t_df, c_df, adv_info = return_dfs()\n",
    "del c_df\n",
    "cp_df = t_df.groupby('campaign_id').sum('payment')\n",
    "cp_df"
   ]
  },
  {
   "cell_type": "code",
   "execution_count": 16,
   "metadata": {},
   "outputs": [
    {
     "output_type": "execute_result",
     "data": {
      "text/plain": [
       "             payment  benefit_p\n",
       "campaign_id                    \n",
       "3005196      1010000  11.477273\n",
       "3005197      1858000  21.113636\n",
       "3046829       992000  11.272727"
      ],
      "text/html": "<div>\n<style scoped>\n    .dataframe tbody tr th:only-of-type {\n        vertical-align: middle;\n    }\n\n    .dataframe tbody tr th {\n        vertical-align: top;\n    }\n\n    .dataframe thead th {\n        text-align: right;\n    }\n</style>\n<table border=\"1\" class=\"dataframe\">\n  <thead>\n    <tr style=\"text-align: right;\">\n      <th></th>\n      <th>payment</th>\n      <th>benefit_p</th>\n    </tr>\n    <tr>\n      <th>campaign_id</th>\n      <th></th>\n      <th></th>\n    </tr>\n  </thead>\n  <tbody>\n    <tr>\n      <th>3005196</th>\n      <td>1010000</td>\n      <td>11.477273</td>\n    </tr>\n    <tr>\n      <th>3005197</th>\n      <td>1858000</td>\n      <td>21.113636</td>\n    </tr>\n    <tr>\n      <th>3046829</th>\n      <td>992000</td>\n      <td>11.272727</td>\n    </tr>\n  </tbody>\n</table>\n</div>"
     },
     "metadata": {},
     "execution_count": 16
    }
   ],
   "source": [
    "cp_df['benefit_p'] = cp_df.payment / 88000\n",
    "cp_df"
   ]
  },
  {
   "cell_type": "code",
   "execution_count": 17,
   "metadata": {},
   "outputs": [
    {
     "output_type": "execute_result",
     "data": {
      "text/plain": [
       "3005196                경기도 화성시 매송면 화성로 2298-27\n",
       "3005197                   경기도 수원시 권선구 서수원로 135\n",
       "3046829                  경기도 수원시 권선구 효탑로30번길 8\n",
       "3251512    경기도 수원시 권선구 오목천로152번길 40 고색동 첨단벤처밸리\n",
       "3374444                   경기도 화성시 봉담읍 상리2길 114\n",
       "Name: address, dtype: object"
      ]
     },
     "metadata": {},
     "execution_count": 17
    }
   ],
   "source": [
    "adv_info = pd.Series(adv_info, name=\"address\")\n",
    "adv_info"
   ]
  },
  {
   "cell_type": "code",
   "execution_count": 18,
   "metadata": {},
   "outputs": [
    {
     "output_type": "execute_result",
     "data": {
      "text/plain": [
       "           payment  benefit_p                              address\n",
       "3005196  1010000.0  11.477273              경기도 화성시 매송면 화성로 2298-27\n",
       "3005197  1858000.0  21.113636                 경기도 수원시 권선구 서수원로 135\n",
       "3046829   992000.0  11.272727                경기도 수원시 권선구 효탑로30번길 8\n",
       "3251512        NaN        NaN  경기도 수원시 권선구 오목천로152번길 40 고색동 첨단벤처밸리\n",
       "3374444        NaN        NaN                 경기도 화성시 봉담읍 상리2길 114"
      ],
      "text/html": "<div>\n<style scoped>\n    .dataframe tbody tr th:only-of-type {\n        vertical-align: middle;\n    }\n\n    .dataframe tbody tr th {\n        vertical-align: top;\n    }\n\n    .dataframe thead th {\n        text-align: right;\n    }\n</style>\n<table border=\"1\" class=\"dataframe\">\n  <thead>\n    <tr style=\"text-align: right;\">\n      <th></th>\n      <th>payment</th>\n      <th>benefit_p</th>\n      <th>address</th>\n    </tr>\n  </thead>\n  <tbody>\n    <tr>\n      <th>3005196</th>\n      <td>1010000.0</td>\n      <td>11.477273</td>\n      <td>경기도 화성시 매송면 화성로 2298-27</td>\n    </tr>\n    <tr>\n      <th>3005197</th>\n      <td>1858000.0</td>\n      <td>21.113636</td>\n      <td>경기도 수원시 권선구 서수원로 135</td>\n    </tr>\n    <tr>\n      <th>3046829</th>\n      <td>992000.0</td>\n      <td>11.272727</td>\n      <td>경기도 수원시 권선구 효탑로30번길 8</td>\n    </tr>\n    <tr>\n      <th>3251512</th>\n      <td>NaN</td>\n      <td>NaN</td>\n      <td>경기도 수원시 권선구 오목천로152번길 40 고색동 첨단벤처밸리</td>\n    </tr>\n    <tr>\n      <th>3374444</th>\n      <td>NaN</td>\n      <td>NaN</td>\n      <td>경기도 화성시 봉담읍 상리2길 114</td>\n    </tr>\n  </tbody>\n</table>\n</div>"
     },
     "metadata": {},
     "execution_count": 18
    }
   ],
   "source": [
    "pd.concat([cp_df, adv_info], axis=1)"
   ]
  },
  {
   "cell_type": "code",
   "execution_count": null,
   "metadata": {},
   "outputs": [],
   "source": []
  }
 ]
}
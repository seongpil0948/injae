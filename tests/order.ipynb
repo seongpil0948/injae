{
 "metadata": {
  "language_info": {
   "codemirror_mode": {
    "name": "ipython",
    "version": 3
   },
   "file_extension": ".py",
   "mimetype": "text/x-python",
   "name": "python",
   "nbconvert_exporter": "python",
   "pygments_lexer": "ipython3",
   "version": "3.8.2-final"
  },
  "orig_nbformat": 2,
  "kernelspec": {
   "name": "python3",
   "display_name": "Python 3"
  }
 },
 "nbformat": 4,
 "nbformat_minor": 2,
 "cells": [
  {
   "cell_type": "code",
   "execution_count": 1,
   "metadata": {},
   "outputs": [],
   "source": [
    "from common import return_dfs\n",
    "t_df, c_df, adv_info = return_dfs()"
   ]
  },
  {
   "cell_type": "code",
   "execution_count": 2,
   "metadata": {},
   "outputs": [
    {
     "output_type": "execute_result",
     "data": {
      "text/plain": [
       "                      payment\n",
       "address                      \n",
       "경기 수원시 권선구 서둔동 ****     12000\n",
       "경기 수원시 권선구 세류2동 ****    10000\n",
       "경기 수원시 권선구 평동 ****    2224000\n",
       "경기 화성시 매송면 매송면 ****    962000\n",
       "경기 화성시 봉담읍 봉담읍 ****    480000\n",
       "경기도 수원시 권선구 평동 ****     32000"
      ],
      "text/html": "<div>\n<style scoped>\n    .dataframe tbody tr th:only-of-type {\n        vertical-align: middle;\n    }\n\n    .dataframe tbody tr th {\n        vertical-align: top;\n    }\n\n    .dataframe thead th {\n        text-align: right;\n    }\n</style>\n<table border=\"1\" class=\"dataframe\">\n  <thead>\n    <tr style=\"text-align: right;\">\n      <th></th>\n      <th>payment</th>\n    </tr>\n    <tr>\n      <th>address</th>\n      <th></th>\n    </tr>\n  </thead>\n  <tbody>\n    <tr>\n      <th>경기 수원시 권선구 서둔동 ****</th>\n      <td>12000</td>\n    </tr>\n    <tr>\n      <th>경기 수원시 권선구 세류2동 ****</th>\n      <td>10000</td>\n    </tr>\n    <tr>\n      <th>경기 수원시 권선구 평동 ****</th>\n      <td>2224000</td>\n    </tr>\n    <tr>\n      <th>경기 화성시 매송면 매송면 ****</th>\n      <td>962000</td>\n    </tr>\n    <tr>\n      <th>경기 화성시 봉담읍 봉담읍 ****</th>\n      <td>480000</td>\n    </tr>\n    <tr>\n      <th>경기도 수원시 권선구 평동 ****</th>\n      <td>32000</td>\n    </tr>\n  </tbody>\n</table>\n</div>"
     },
     "metadata": {},
     "execution_count": 2
    }
   ],
   "source": [
    "\n",
    "t_order = t_df.groupby('address').sum('payment').drop('campaign_id', axis=1).sort_index()\n",
    "c_order = c_df.groupby('address').sum('payment').drop('campaign_id', axis=1).sort_index()\n",
    "t_order"
   ]
  },
  {
   "cell_type": "code",
   "execution_count": 3,
   "metadata": {},
   "outputs": [
    {
     "output_type": "execute_result",
     "data": {
      "text/plain": [
       "                      payment\n",
       "address                      \n",
       "경기 수원시 권선구 서둔동 ****     94000\n",
       "경기 수원시 권선구 평동 ****    4292000\n",
       "경기 수원시 권선구 호매실동 ****   165000\n",
       "경기 화성시 기배동 ****        433000\n",
       "경기 화성시 매송면 매송면 ****   1272000\n",
       "경기 화성시 봉담읍 봉담읍 ****   1608000\n",
       "경기도 수원시 권선구 평동 ****     16000\n",
       "경기도 화성시 봉담읍 ****        17000"
      ],
      "text/html": "<div>\n<style scoped>\n    .dataframe tbody tr th:only-of-type {\n        vertical-align: middle;\n    }\n\n    .dataframe tbody tr th {\n        vertical-align: top;\n    }\n\n    .dataframe thead th {\n        text-align: right;\n    }\n</style>\n<table border=\"1\" class=\"dataframe\">\n  <thead>\n    <tr style=\"text-align: right;\">\n      <th></th>\n      <th>payment</th>\n    </tr>\n    <tr>\n      <th>address</th>\n      <th></th>\n    </tr>\n  </thead>\n  <tbody>\n    <tr>\n      <th>경기 수원시 권선구 서둔동 ****</th>\n      <td>94000</td>\n    </tr>\n    <tr>\n      <th>경기 수원시 권선구 평동 ****</th>\n      <td>4292000</td>\n    </tr>\n    <tr>\n      <th>경기 수원시 권선구 호매실동 ****</th>\n      <td>165000</td>\n    </tr>\n    <tr>\n      <th>경기 화성시 기배동 ****</th>\n      <td>433000</td>\n    </tr>\n    <tr>\n      <th>경기 화성시 매송면 매송면 ****</th>\n      <td>1272000</td>\n    </tr>\n    <tr>\n      <th>경기 화성시 봉담읍 봉담읍 ****</th>\n      <td>1608000</td>\n    </tr>\n    <tr>\n      <th>경기도 수원시 권선구 평동 ****</th>\n      <td>16000</td>\n    </tr>\n    <tr>\n      <th>경기도 화성시 봉담읍 ****</th>\n      <td>17000</td>\n    </tr>\n  </tbody>\n</table>\n</div>"
     },
     "metadata": {},
     "execution_count": 3
    }
   ],
   "source": [
    "c_order"
   ]
  },
  {
   "cell_type": "code",
   "execution_count": 6,
   "metadata": {},
   "outputs": [
    {
     "output_type": "execute_result",
     "data": {
      "text/plain": [
       "                      payment    benefit  compare_payment     profit  \\\n",
       "address                                                                \n",
       "경기 수원시 권선구 서둔동 ****     12000   0.136364          94000.0   -82000.0   \n",
       "경기 수원시 권선구 세류2동 ****    10000   0.113636              NaN        NaN   \n",
       "경기 수원시 권선구 평동 ****    2059000  23.397727        4292000.0 -2233000.0   \n",
       "경기 화성시 매송면 매송면 ****    916000  10.409091        1272000.0  -356000.0   \n",
       "경기 화성시 봉담읍 봉담읍 ****    473000   5.375000        1608000.0 -1135000.0   \n",
       "경기도 수원시 권선구 평동 ****     32000   0.363636          16000.0    16000.0   \n",
       "\n",
       "                        profit_p  \n",
       "address                           \n",
       "경기 수원시 권선구 서둔동 ****   -87.234043  \n",
       "경기 수원시 권선구 세류2동 ****         NaN  \n",
       "경기 수원시 권선구 평동 ****    -52.027027  \n",
       "경기 화성시 매송면 매송면 ****   -27.987421  \n",
       "경기 화성시 봉담읍 봉담읍 ****   -70.584577  \n",
       "경기도 수원시 권선구 평동 ****   100.000000  "
      ],
      "text/html": "<div>\n<style scoped>\n    .dataframe tbody tr th:only-of-type {\n        vertical-align: middle;\n    }\n\n    .dataframe tbody tr th {\n        vertical-align: top;\n    }\n\n    .dataframe thead th {\n        text-align: right;\n    }\n</style>\n<table border=\"1\" class=\"dataframe\">\n  <thead>\n    <tr style=\"text-align: right;\">\n      <th></th>\n      <th>payment</th>\n      <th>benefit</th>\n      <th>compare_payment</th>\n      <th>profit</th>\n      <th>profit_p</th>\n    </tr>\n    <tr>\n      <th>address</th>\n      <th></th>\n      <th></th>\n      <th></th>\n      <th></th>\n      <th></th>\n    </tr>\n  </thead>\n  <tbody>\n    <tr>\n      <th>경기 수원시 권선구 서둔동 ****</th>\n      <td>12000</td>\n      <td>0.136364</td>\n      <td>94000.0</td>\n      <td>-82000.0</td>\n      <td>-87.234043</td>\n    </tr>\n    <tr>\n      <th>경기 수원시 권선구 세류2동 ****</th>\n      <td>10000</td>\n      <td>0.113636</td>\n      <td>NaN</td>\n      <td>NaN</td>\n      <td>NaN</td>\n    </tr>\n    <tr>\n      <th>경기 수원시 권선구 평동 ****</th>\n      <td>2059000</td>\n      <td>23.397727</td>\n      <td>4292000.0</td>\n      <td>-2233000.0</td>\n      <td>-52.027027</td>\n    </tr>\n    <tr>\n      <th>경기 화성시 매송면 매송면 ****</th>\n      <td>916000</td>\n      <td>10.409091</td>\n      <td>1272000.0</td>\n      <td>-356000.0</td>\n      <td>-27.987421</td>\n    </tr>\n    <tr>\n      <th>경기 화성시 봉담읍 봉담읍 ****</th>\n      <td>473000</td>\n      <td>5.375000</td>\n      <td>1608000.0</td>\n      <td>-1135000.0</td>\n      <td>-70.584577</td>\n    </tr>\n    <tr>\n      <th>경기도 수원시 권선구 평동 ****</th>\n      <td>32000</td>\n      <td>0.363636</td>\n      <td>16000.0</td>\n      <td>16000.0</td>\n      <td>100.000000</td>\n    </tr>\n  </tbody>\n</table>\n</div>"
     },
     "metadata": {},
     "execution_count": 6
    }
   ],
   "source": [
    "t_order['profit'] = t_order.payment - c_order.payment\n",
    "t_order['profit_p'] = t_order.profit / c_order.payment * 100\n",
    "t_order['compare_payment'] = c_order.payment\n",
    "t_order['benefit'] = t_order.payment / 88000\n",
    "t_order = t_order[['payment', 'benefit', 'compare_payment', 'profit', 'profit_p']]\n",
    "t_order"
   ]
  },
  {
   "cell_type": "code",
   "execution_count": null,
   "metadata": {},
   "outputs": [],
   "source": []
  }
 ]
}
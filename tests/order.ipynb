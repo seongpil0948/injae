{
 "metadata": {
  "language_info": {
   "codemirror_mode": {
    "name": "ipython",
    "version": 3
   },
   "file_extension": ".py",
   "mimetype": "text/x-python",
   "name": "python",
   "nbconvert_exporter": "python",
   "pygments_lexer": "ipython3",
   "version": "3.8.2-final"
  },
  "orig_nbformat": 2,
  "kernelspec": {
   "name": "python3",
   "display_name": "Python 3"
  }
 },
 "nbformat": 4,
 "nbformat_minor": 2,
 "cells": [
  {
   "cell_type": "code",
   "execution_count": 8,
   "metadata": {},
   "outputs": [],
   "source": [
    "from common import return_dfs\n",
    "t_df, c_df, adv_info = return_dfs()"
   ]
  },
  {
   "cell_type": "code",
   "execution_count": 10,
   "metadata": {},
   "outputs": [
    {
     "output_type": "execute_result",
     "data": {
      "text/plain": [
       "                      payment\n",
       "address                      \n",
       "경기 수원시 권선구 서둔동 ****     12000\n",
       "경기 수원시 권선구 세류2동 ****    10000\n",
       "경기 수원시 권선구 평동 ****    2278000\n",
       "경기 화성시 매송면 매송면 ****    970000\n",
       "경기 화성시 봉담읍 봉담읍 ****    494000\n",
       "경기도 수원시 권선구 평동 ****     32000"
      ],
      "text/html": "<div>\n<style scoped>\n    .dataframe tbody tr th:only-of-type {\n        vertical-align: middle;\n    }\n\n    .dataframe tbody tr th {\n        vertical-align: top;\n    }\n\n    .dataframe thead th {\n        text-align: right;\n    }\n</style>\n<table border=\"1\" class=\"dataframe\">\n  <thead>\n    <tr style=\"text-align: right;\">\n      <th></th>\n      <th>payment</th>\n    </tr>\n    <tr>\n      <th>address</th>\n      <th></th>\n    </tr>\n  </thead>\n  <tbody>\n    <tr>\n      <th>경기 수원시 권선구 서둔동 ****</th>\n      <td>12000</td>\n    </tr>\n    <tr>\n      <th>경기 수원시 권선구 세류2동 ****</th>\n      <td>10000</td>\n    </tr>\n    <tr>\n      <th>경기 수원시 권선구 평동 ****</th>\n      <td>2278000</td>\n    </tr>\n    <tr>\n      <th>경기 화성시 매송면 매송면 ****</th>\n      <td>970000</td>\n    </tr>\n    <tr>\n      <th>경기 화성시 봉담읍 봉담읍 ****</th>\n      <td>494000</td>\n    </tr>\n    <tr>\n      <th>경기도 수원시 권선구 평동 ****</th>\n      <td>32000</td>\n    </tr>\n  </tbody>\n</table>\n</div>"
     },
     "metadata": {},
     "execution_count": 10
    }
   ],
   "source": [
    "\n",
    "t_order = t_df.groupby('address').sum('payment').drop('campaign_id', axis=1).sort_index()\n",
    "c_order = c_df.groupby('address').sum('payment').drop('campaign_id', axis=1).sort_index()\n",
    "t_order"
   ]
  },
  {
   "cell_type": "code",
   "execution_count": 11,
   "metadata": {},
   "outputs": [
    {
     "output_type": "execute_result",
     "data": {
      "text/plain": [
       "                      payment\n",
       "address                      \n",
       "경기 수원시 권선구 서둔동 ****     94000\n",
       "경기 수원시 권선구 평동 ****    4222000\n",
       "경기 수원시 권선구 호매실동 ****   165000\n",
       "경기 화성시 기배동 ****        412000\n",
       "경기 화성시 매송면 매송면 ****   1262000\n",
       "경기 화성시 봉담읍 봉담읍 ****   1532000\n",
       "경기도 수원시 권선구 평동 ****     16000\n",
       "경기도 화성시 봉담읍 ****        17000"
      ],
      "text/html": "<div>\n<style scoped>\n    .dataframe tbody tr th:only-of-type {\n        vertical-align: middle;\n    }\n\n    .dataframe tbody tr th {\n        vertical-align: top;\n    }\n\n    .dataframe thead th {\n        text-align: right;\n    }\n</style>\n<table border=\"1\" class=\"dataframe\">\n  <thead>\n    <tr style=\"text-align: right;\">\n      <th></th>\n      <th>payment</th>\n    </tr>\n    <tr>\n      <th>address</th>\n      <th></th>\n    </tr>\n  </thead>\n  <tbody>\n    <tr>\n      <th>경기 수원시 권선구 서둔동 ****</th>\n      <td>94000</td>\n    </tr>\n    <tr>\n      <th>경기 수원시 권선구 평동 ****</th>\n      <td>4222000</td>\n    </tr>\n    <tr>\n      <th>경기 수원시 권선구 호매실동 ****</th>\n      <td>165000</td>\n    </tr>\n    <tr>\n      <th>경기 화성시 기배동 ****</th>\n      <td>412000</td>\n    </tr>\n    <tr>\n      <th>경기 화성시 매송면 매송면 ****</th>\n      <td>1262000</td>\n    </tr>\n    <tr>\n      <th>경기 화성시 봉담읍 봉담읍 ****</th>\n      <td>1532000</td>\n    </tr>\n    <tr>\n      <th>경기도 수원시 권선구 평동 ****</th>\n      <td>16000</td>\n    </tr>\n    <tr>\n      <th>경기도 화성시 봉담읍 ****</th>\n      <td>17000</td>\n    </tr>\n  </tbody>\n</table>\n</div>"
     },
     "metadata": {},
     "execution_count": 11
    }
   ],
   "source": [
    "c_order"
   ]
  },
  {
   "cell_type": "code",
   "execution_count": 12,
   "metadata": {},
   "outputs": [
    {
     "output_type": "execute_result",
     "data": {
      "text/plain": [
       "                      payment  compare_payment     profit    profit_p\n",
       "address                                                              \n",
       "경기 수원시 권선구 서둔동 ****     12000          94000.0   -82000.0  -87.234043\n",
       "경기 수원시 권선구 세류2동 ****    10000              NaN        NaN         NaN\n",
       "경기 수원시 권선구 평동 ****    2278000        4222000.0 -1944000.0  -46.044529\n",
       "경기 화성시 매송면 매송면 ****    970000        1262000.0  -292000.0  -23.137876\n",
       "경기 화성시 봉담읍 봉담읍 ****    494000        1532000.0 -1038000.0  -67.754569\n",
       "경기도 수원시 권선구 평동 ****     32000          16000.0    16000.0  100.000000"
      ],
      "text/html": "<div>\n<style scoped>\n    .dataframe tbody tr th:only-of-type {\n        vertical-align: middle;\n    }\n\n    .dataframe tbody tr th {\n        vertical-align: top;\n    }\n\n    .dataframe thead th {\n        text-align: right;\n    }\n</style>\n<table border=\"1\" class=\"dataframe\">\n  <thead>\n    <tr style=\"text-align: right;\">\n      <th></th>\n      <th>payment</th>\n      <th>compare_payment</th>\n      <th>profit</th>\n      <th>profit_p</th>\n    </tr>\n    <tr>\n      <th>address</th>\n      <th></th>\n      <th></th>\n      <th></th>\n      <th></th>\n    </tr>\n  </thead>\n  <tbody>\n    <tr>\n      <th>경기 수원시 권선구 서둔동 ****</th>\n      <td>12000</td>\n      <td>94000.0</td>\n      <td>-82000.0</td>\n      <td>-87.234043</td>\n    </tr>\n    <tr>\n      <th>경기 수원시 권선구 세류2동 ****</th>\n      <td>10000</td>\n      <td>NaN</td>\n      <td>NaN</td>\n      <td>NaN</td>\n    </tr>\n    <tr>\n      <th>경기 수원시 권선구 평동 ****</th>\n      <td>2278000</td>\n      <td>4222000.0</td>\n      <td>-1944000.0</td>\n      <td>-46.044529</td>\n    </tr>\n    <tr>\n      <th>경기 화성시 매송면 매송면 ****</th>\n      <td>970000</td>\n      <td>1262000.0</td>\n      <td>-292000.0</td>\n      <td>-23.137876</td>\n    </tr>\n    <tr>\n      <th>경기 화성시 봉담읍 봉담읍 ****</th>\n      <td>494000</td>\n      <td>1532000.0</td>\n      <td>-1038000.0</td>\n      <td>-67.754569</td>\n    </tr>\n    <tr>\n      <th>경기도 수원시 권선구 평동 ****</th>\n      <td>32000</td>\n      <td>16000.0</td>\n      <td>16000.0</td>\n      <td>100.000000</td>\n    </tr>\n  </tbody>\n</table>\n</div>"
     },
     "metadata": {},
     "execution_count": 12
    }
   ],
   "source": [
    "t_order['profit'] = t_order.payment - c_order.payment\n",
    "t_order['profit_p'] = t_order.profit / c_order.payment * 100\n",
    "t_order['compare_payment'] = c_order.payment\n",
    "t_order = t_order[['payment', 'compare_payment', 'profit', 'profit_p']]\n",
    "t_order"
   ]
  },
  {
   "cell_type": "code",
   "execution_count": null,
   "metadata": {},
   "outputs": [],
   "source": []
  }
 ]
}